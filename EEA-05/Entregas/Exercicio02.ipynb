{
 "cells": [
  {
   "cell_type": "code",
   "id": "initial_id",
   "metadata": {
    "collapsed": true,
    "ExecuteTime": {
     "end_time": "2024-08-24T02:15:57.679669Z",
     "start_time": "2024-08-24T02:15:57.676588Z"
    }
   },
   "source": [
    "import numpy as np\n",
    "import matplotlib.pyplot as plt\n",
    "import control as ct\n",
    "import sympy as sp"
   ],
   "outputs": [],
   "execution_count": 18
  },
  {
   "metadata": {},
   "cell_type": "markdown",
   "source": "# Filtro com aproximação Butterworth",
   "id": "52ea5236f4856ed1"
  },
  {
   "metadata": {},
   "cell_type": "markdown",
   "source": [
    "Calculo de $\\epsilon$\n",
    "\n",
    "$ \\epsilon = \\sqrt{10^{0.1*1}-1} = 0.508$"
   ],
   "id": "b32f86ce5ce9a4cc"
  },
  {
   "metadata": {
    "ExecuteTime": {
     "end_time": "2024-08-24T02:16:00.366002Z",
     "start_time": "2024-08-24T02:16:00.362046Z"
    }
   },
   "cell_type": "code",
   "source": "np.sqrt(10 ** 0.1 - 1)",
   "id": "a3b5edd86cff4051",
   "outputs": [
    {
     "data": {
      "text/plain": [
       "0.5088471399095875"
      ]
     },
     "execution_count": 19,
     "metadata": {},
     "output_type": "execute_result"
    }
   ],
   "execution_count": 19
  },
  {
   "metadata": {},
   "cell_type": "markdown",
   "source": [
    "Ordem do filtro\n",
    "\n",
    "$n = \\frac{log_{10} (\\frac{10^{0.1*35}-1}{\\epsilon^2})}{log_{10} (\\frac{\\omega_S}{\\omega_P})^2} = 3.75$"
   ],
   "id": "7483a7b79652ae73"
  },
  {
   "metadata": {},
   "cell_type": "markdown",
   "source": [
    "Então, teremos um filtro de ordem 4.\\\n",
    "Pegando da tabela\\\n",
    "$G(s)=\\left(s^2 + 0.76537s + 1\\right)\\left(s^2 + 1.84776s + 1\\right)$"
   ],
   "id": "2c3da8fd12cdc479"
  },
  {
   "metadata": {},
   "cell_type": "markdown",
   "source": [
    "Desnormalizando, substituindo \n",
    "\n",
    "$s$ por $s(\\frac{\\epsilon^{1/n}}{\\omega_P}) = 0.0001343650s$"
   ],
   "id": "b3194f46944bdb1d"
  },
  {
   "metadata": {
    "ExecuteTime": {
     "end_time": "2024-08-24T02:16:01.477050Z",
     "start_time": "2024-08-24T02:16:01.472561Z"
    }
   },
   "cell_type": "code",
   "source": [
    "s = sp.symbols('s')\n",
    "poli = np.polymul([1, 0.76537, 1], [1, 1.84776, 1])\n",
    "poli"
   ],
   "id": "33ebda76628ea371",
   "outputs": [
    {
     "data": {
      "text/plain": [
       "array([1.        , 2.61313   , 3.41422007, 2.61313   , 1.        ])"
      ]
     },
     "execution_count": 20,
     "metadata": {},
     "output_type": "execute_result"
    }
   ],
   "execution_count": 20
  },
  {
   "metadata": {
    "ExecuteTime": {
     "end_time": "2024-08-24T02:16:01.647792Z",
     "start_time": "2024-08-24T02:16:01.641802Z"
    }
   },
   "cell_type": "code",
   "source": [
    "G = s**4 + 2.61313*s**3 + 3.41422*s**2 + 2.61313*s+1\n",
    "G"
   ],
   "id": "2ae11677f0dfea3c",
   "outputs": [
    {
     "data": {
      "text/plain": [
       "s**4 + 2.61313*s**3 + 3.41422*s**2 + 2.61313*s + 1"
      ],
      "text/latex": "$\\displaystyle s^{4} + 2.61313 s^{3} + 3.41422 s^{2} + 2.61313 s + 1$"
     },
     "execution_count": 21,
     "metadata": {},
     "output_type": "execute_result"
    }
   ],
   "execution_count": 21
  },
  {
   "metadata": {
    "ExecuteTime": {
     "end_time": "2024-08-24T02:16:02.061184Z",
     "start_time": "2024-08-24T02:16:02.055623Z"
    }
   },
   "cell_type": "code",
   "source": [
    "G = G.subs(s, 0.0001343650*s)\n",
    "G"
   ],
   "id": "868f40a4f4571b6b",
   "outputs": [
    {
     "data": {
      "text/plain": [
       "3.25945227050488e-16*s**4 + 6.33898151425179e-12*s**3 + 6.16401681798595e-8*s**2 + 0.00035111321245*s + 1"
      ],
      "text/latex": "$\\displaystyle 3.25945227050488 \\cdot 10^{-16} s^{4} + 6.33898151425179 \\cdot 10^{-12} s^{3} + 6.16401681798595 \\cdot 10^{-8} s^{2} + 0.00035111321245 s + 1$"
     },
     "execution_count": 22,
     "metadata": {},
     "output_type": "execute_result"
    }
   ],
   "execution_count": 22
  },
  {
   "metadata": {},
   "cell_type": "markdown",
   "source": "# Função de transferência",
   "id": "8e86918767c09171"
  },
  {
   "metadata": {
    "ExecuteTime": {
     "end_time": "2024-08-24T02:16:04.594274Z",
     "start_time": "2024-08-24T02:16:04.588126Z"
    }
   },
   "cell_type": "code",
   "source": [
    "H = 1/G\n",
    "H"
   ],
   "id": "3e04a1277f770772",
   "outputs": [
    {
     "data": {
      "text/plain": [
       "1/(3.25945227050488e-16*s**4 + 6.33898151425179e-12*s**3 + 6.16401681798595e-8*s**2 + 0.00035111321245*s + 1)"
      ],
      "text/latex": "$\\displaystyle \\frac{1}{3.25945227050488 \\cdot 10^{-16} s^{4} + 6.33898151425179 \\cdot 10^{-12} s^{3} + 6.16401681798595 \\cdot 10^{-8} s^{2} + 0.00035111321245 s + 1}$"
     },
     "execution_count": 23,
     "metadata": {},
     "output_type": "execute_result"
    }
   ],
   "execution_count": 23
  },
  {
   "metadata": {},
   "cell_type": "markdown",
   "source": "# Polos da função de transferência",
   "id": "c4bb3b981d634944"
  },
  {
   "metadata": {
    "ExecuteTime": {
     "end_time": "2024-08-24T02:16:08.748579Z",
     "start_time": "2024-08-24T02:16:08.669128Z"
    }
   },
   "cell_type": "code",
   "source": [
    "r = sp.solve(G, s)\n",
    "r"
   ],
   "id": "1e5dd67fbdb507a6",
   "outputs": [
    {
     "data": {
      "text/plain": [
       "[-6875.89798600958 - 2848.07966614337*I,\n",
       " -6875.89798600958 + 2848.07966614337*I,\n",
       " -2848.1000789627 - 6875.88953073873*I,\n",
       " -2848.1000789627 + 6875.88953073873*I]"
      ]
     },
     "execution_count": 24,
     "metadata": {},
     "output_type": "execute_result"
    }
   ],
   "execution_count": 24
  },
  {
   "metadata": {
    "ExecuteTime": {
     "end_time": "2024-08-24T02:22:09.588315Z",
     "start_time": "2024-08-24T02:22:09.582885Z"
    }
   },
   "cell_type": "code",
   "source": [
    "coefs = G.as_poly(s).all_coeffs()\n",
    "coeficientes_array = [float(c) for c in coefs]\n",
    "sistema = ct.tf([1], coeficientes_array)\n",
    "sistema"
   ],
   "id": "60308e59a833cd39",
   "outputs": [
    {
     "data": {
      "text/plain": [
       "TransferFunction(array([1]), array([3.25945227e-16, 6.33898151e-12, 6.16401682e-08, 3.51113212e-04,\n",
       "       1.00000000e+00]))"
      ],
      "text/latex": "$$\\frac{1}{3.259 \\times 10^{-16} s^4 + 6.339 \\times 10^{-12} s^3 + 6.164 \\times 10^{-8} s^2 + 0.0003511 s + 1}$$"
     },
     "execution_count": 34,
     "metadata": {},
     "output_type": "execute_result"
    }
   ],
   "execution_count": 34
  },
  {
   "metadata": {
    "ExecuteTime": {
     "end_time": "2024-08-24T02:23:55.222152Z",
     "start_time": "2024-08-24T02:23:53.730339Z"
    }
   },
   "cell_type": "code",
   "source": "_, _ = ct.pzmap(sistema, plot=True)",
   "id": "8fe72e0f39154e04",
   "outputs": [
    {
     "data": {
      "text/plain": [
       "<Figure size 640x480 with 1 Axes>"
      ],
      "image/png": "[encoded data removed]"
     },
     "metadata": {},
     "output_type": "display_data"
    }
   ],
   "execution_count": 35
  },
  {
   "metadata": {},
   "cell_type": "markdown",
   "source": "",
   "id": "4c17b2a33c5d0843"
  },
  {
   "metadata": {},
   "cell_type": "markdown",
   "source": [
    "# Perda\n",
    "\n",
    "$A(\\Omega) = 10 log_{10} (1+\\Omega^{2*4}) $\\\n",
    "\\\n",
    "$\\Omega=\\frac{9000}{1000}=9$\\\n",
    "\\\n",
    "$A(9)=10 log_{10} (1+9^{2*4}) = 76.33$"
   ],
   "id": "d52bad0e2681bb68"
  },
  {
   "metadata": {},
   "cell_type": "code",
   "outputs": [],
   "execution_count": null,
   "source": "",
   "id": "bbecb48148af9cbb"
  }
 ],
 "metadata": {
  "kernelspec": {
   "display_name": "Python 3",
   "language": "python",
   "name": "python3"
  },
  "language_info": {
   "codemirror_mode": {
    "name": "ipython",
    "version": 2
   },
   "file_extension": ".py",
   "mimetype": "text/x-python",
   "name": "python",
   "nbconvert_exporter": "python",
   "pygments_lexer": "ipython2",
   "version": "2.7.6"
  }
 },
 "nbformat": 4,
 "nbformat_minor": 5
}
